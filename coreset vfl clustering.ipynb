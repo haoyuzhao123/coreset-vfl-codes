{
 "cells": [
  {
   "cell_type": "code",
   "execution_count": 1,
   "id": "4251a402",
   "metadata": {},
   "outputs": [],
   "source": [
    "import numpy as np\n",
    "import scipy as sp\n",
    "import pandas as pd\n",
    "\n",
    "from sklearn.preprocessing import StandardScaler\n",
    "\n",
    "from sklearn.cluster import KMeans"
   ]
  },
  {
   "cell_type": "markdown",
   "id": "b2a98aba",
   "metadata": {},
   "source": [
    "# Kmeans Clustering on YearPredictionMSD"
   ]
  },
  {
   "cell_type": "code",
   "execution_count": 2,
   "id": "7bbb841c",
   "metadata": {},
   "outputs": [],
   "source": [
    "# reading data\n",
    "data = pd.read_csv(\"year_prediction.csv\")\n",
    "data = data.rename(index=str, columns={\"label\":\"year\"})"
   ]
  },
  {
   "cell_type": "code",
   "execution_count": 3,
   "id": "e92a6880",
   "metadata": {},
   "outputs": [],
   "source": [
    "# separate input attributes and output into different dataframes\n",
    "X = data.iloc[:,1:]\n",
    "Y = data.iloc[:,0]\n",
    "\n",
    "# normalized the training set X\n",
    "scaler = StandardScaler()\n",
    "scaler.fit(X)\n",
    "X_std = scaler.transform(X)\n",
    "\n",
    "num_of_data, _ = X_std.shape"
   ]
  },
  {
   "cell_type": "code",
   "execution_count": 121,
   "id": "4ea3fa82",
   "metadata": {},
   "outputs": [
    {
     "name": "stdout",
     "output_type": "stream",
     "text": [
      "71.65047255247167\n",
      "71.65037839463994\n",
      "71.65038445285383\n",
      "71.65043678725971\n",
      "71.65055173588914\n",
      "71.65043621527752\n",
      "71.65043481087723\n",
      "71.65066602130086\n",
      "71.65744870527136\n",
      "71.65045610855871\n",
      "71.65057260055757\n",
      "71.65039727026986\n",
      "71.65057172896067\n",
      "71.65042962393274\n",
      "71.66007752663573\n",
      "71.6505658605916\n",
      "71.65057189113001\n",
      "71.65051012927415\n",
      "71.65057042708213\n",
      "71.65041435398359\n"
     ]
    }
   ],
   "source": [
    "num_of_rep = 20\n",
    "res = np.zeros(num_of_rep)\n",
    "num_clusters = 10\n",
    "\n",
    "for t in range(num_of_rep):\n",
    "    kmeans = KMeans(n_clusters = num_clusters)\n",
    "    kmeans.fit(X_std)\n",
    "    record = kmeans.inertia_ / num_of_data\n",
    "    res[t] = record\n",
    "    print(record)\n",
    "\n",
    "name_str = \"./res/kmeans/kmeans-\"+str(num_clusters)+\"c.npy\"    \n",
    "np.save(name_str, res)"
   ]
  },
  {
   "cell_type": "markdown",
   "id": "8de2cf3d",
   "metadata": {},
   "source": [
    "## Implement DistDimKmeans (Ding et al 2016)"
   ]
  },
  {
   "cell_type": "code",
   "execution_count": 5,
   "id": "7ba078d1",
   "metadata": {},
   "outputs": [],
   "source": [
    "def decode(number, b, t):\n",
    "    res = []\n",
    "    for _ in range(t):\n",
    "        r = number % b\n",
    "        res.append(r)\n",
    "        number = (number - r) // b\n",
    "    res.reverse()\n",
    "    return res\n",
    "\n",
    "def encode(number_list, b, t):\n",
    "    res = 0\n",
    "    number_list.reverse()\n",
    "    for i in range(t):\n",
    "        res += number_list[i] * (b ** i)\n",
    "    return res\n",
    "\n",
    "def distkmeans(D_list, w_list, n_c = 10):\n",
    "    D = np.hstack(D_list)\n",
    "    num_of_party = len(D_list)\n",
    "    num_of_data, _ = D_list[0].shape\n",
    "    kmeans_list = []\n",
    "    total_dim = 0\n",
    "    label_list = []\n",
    "    for j in range(num_of_party):\n",
    "        kmeans_list.append(KMeans(n_clusters = n_c))\n",
    "        _, party_dim = D_list[j].shape\n",
    "        total_dim += party_dim\n",
    "        label = kmeans_list[j].fit_predict(D_list[j], sample_weight = w_list)\n",
    "        label_list.append(label)\n",
    "    \n",
    "    grids_number = n_c ** num_of_party\n",
    "    center_list = np.zeros((grids_number, total_dim))\n",
    "    center_weights = np.zeros(grids_number)\n",
    "    \n",
    "    for h in range(grids_number):\n",
    "        h_decode = decode(h, n_c, num_of_party)\n",
    "        temp = []\n",
    "        for j in range(num_of_party):\n",
    "            temp.append((kmeans_list[j].cluster_centers_)[h_decode[j],:])\n",
    "        center_list[h, :] = np.concatenate(temp)\n",
    "    \n",
    "    for i in range(num_of_data):\n",
    "        temp = [l[i] for l in label_list]\n",
    "        idx = encode(temp, n_c, num_of_party)\n",
    "        center_weights[idx] += w_list[i]\n",
    "    \n",
    "    # normalize center_weights to 1\n",
    "    center_weights = center_weights / np.sum(center_weights)\n",
    "    \n",
    "    server_kmeans = KMeans(n_clusters = n_c)\n",
    "    server_kmeans.fit(center_list, sample_weight = center_weights)\n",
    "    return server_kmeans"
   ]
  },
  {
   "cell_type": "markdown",
   "id": "3688ec85",
   "metadata": {},
   "source": [
    "## Implement Coreset Construction"
   ]
  },
  {
   "cell_type": "code",
   "execution_count": 7,
   "id": "01a88d05",
   "metadata": {},
   "outputs": [],
   "source": [
    "def uniform_kmeans(m, D_list, n_c = 10):\n",
    "    D = np.hstack(D_list)\n",
    "    D_df = pd.DataFrame(D)\n",
    "    C = D_df.sample(n=m, replace=False)\n",
    "    C = C.to_numpy()\n",
    "    return C\n",
    "\n",
    "def coreset_kmeans(m, D_list, n_c = 10):\n",
    "    alpha = 2\n",
    "    D = np.hstack(D_list)\n",
    "    num_of_party = len(D_list)\n",
    "    num_of_data, _ = D_list[0].shape\n",
    "    kmeans_list = []\n",
    "    label_list = []\n",
    "    groupcost_list = []\n",
    "    groupcount_list = []\n",
    "    sensitivity = np.zeros((num_of_data, num_of_party))\n",
    "    for j in range(num_of_party):\n",
    "        kmeans_list.append(KMeans(n_clusters = n_c))\n",
    "        label = kmeans_list[j].fit_predict(D_list[j])\n",
    "        label_list.append(label)\n",
    "        groupcost = np.zeros(n_c)\n",
    "        groupcount = np.zeros(n_c)\n",
    "        cost = kmeans_list[j].inertia_ / num_of_data\n",
    "        t = kmeans_list[j].transform(D_list[j])\n",
    "        for i in range(num_of_data):\n",
    "            groupcount[label[i]] += 1\n",
    "            groupcost[label[i]] += t[i,label[i]] ** 2\n",
    "        for i in range(num_of_data):\n",
    "            sensitivity[i,j] = alpha * (t[i,label[i]] ** 2) / cost \\\n",
    "                        + 2 * alpha * groupcost[label[i]] / (groupcount[label[i]] * cost) + 4 * num_of_data / groupcount[label[i]]\n",
    "    s = np.sum(sensitivity, axis=1)\n",
    "    D_df = pd.DataFrame(np.hstack((D, (1/s).reshape(-1,1))))\n",
    "    C = D_df.sample(n=m, replace=False, weights=s)\n",
    "    C = C.to_numpy()\n",
    "    data = C[:,:-1]\n",
    "    weights = C[:,-1]\n",
    "    return data, weights"
   ]
  },
  {
   "cell_type": "code",
   "execution_count": 125,
   "id": "9c4551c7",
   "metadata": {},
   "outputs": [
    {
     "name": "stdout",
     "output_type": "stream",
     "text": [
      "73.46019681608169\n",
      "73.44234567211778\n",
      "74.23817445185314\n",
      "73.50473315261743\n",
      "73.8470045225081\n",
      "73.83340940298976\n",
      "74.10437548157843\n",
      "73.14254030775075\n",
      "73.37503297719871\n",
      "73.22802974817957\n",
      "74.44289338836494\n",
      "73.44334870173103\n",
      "74.29590281199722\n",
      "74.0795713427415\n",
      "73.44194770990273\n",
      "74.06784220645517\n",
      "74.2770960732288\n",
      "73.5925707763438\n",
      "73.69805438857364\n",
      "73.67229988940595\n"
     ]
    }
   ],
   "source": [
    "num_of_rep = 20\n",
    "res = np.zeros(num_of_rep)\n",
    "num_clusters = 10\n",
    "size = 1000\n",
    "\n",
    "X1 = X_std[:,:30]\n",
    "X2 = X_std[:,30:60]\n",
    "X3 = X_std[:,60:]\n",
    "\n",
    "X_list = [X1, X2, X3]\n",
    "\n",
    "for t in range(num_of_rep):\n",
    "    d, w = coreset_kmeans(size, X_list, n_c = num_clusters)\n",
    "    ckmeans = KMeans(n_clusters = num_clusters)\n",
    "    ckmeans.fit(d,sample_weight = w)\n",
    "\n",
    "    dist = ckmeans.transform(X_std)\n",
    "    cost = np.sum((np.min(dist, axis=1)) ** 2) / num_of_data\n",
    "    res[t] = cost\n",
    "    print(cost)\n",
    "\n",
    "name_str = \"./res/kmeans/kmeans-coreset-\"+str(num_clusters)+\"c\"+str(size)+\"s.npy\"    \n",
    "np.save(name_str, res)"
   ]
  },
  {
   "cell_type": "code",
   "execution_count": 30,
   "id": "fce35caa",
   "metadata": {},
   "outputs": [
    {
     "name": "stdout",
     "output_type": "stream",
     "text": [
      "74.09765958686631\n",
      "74.43134420860241\n",
      "75.20928803051173\n",
      "73.90252689073156\n",
      "74.92758411617388\n",
      "74.29166864941674\n",
      "75.57129063612592\n",
      "73.6838237077466\n",
      "73.7346013765442\n",
      "74.42756612921227\n",
      "74.3671381982716\n",
      "75.50098534065393\n",
      "74.44264344906125\n",
      "74.30753472293168\n",
      "74.18747438812935\n",
      "75.10918356548495\n",
      "74.16285895851007\n",
      "74.84423556074813\n",
      "73.91553029201579\n",
      "74.64825525706348\n"
     ]
    }
   ],
   "source": [
    "num_of_rep = 20\n",
    "res = np.zeros(num_of_rep)\n",
    "num_clusters = 10\n",
    "size = 1200\n",
    "\n",
    "for t in range(num_of_rep):\n",
    "    d = uniform_kmeans(size, X_list, n_c = num_clusters)\n",
    "\n",
    "    ukmeans = KMeans(n_clusters = num_clusters)\n",
    "    ukmeans.fit(d)\n",
    "\n",
    "    dist = ukmeans.transform(X_std)\n",
    "    cost = np.sum((np.min(dist, axis=1)) ** 2) / num_of_data\n",
    "    res[t] = cost\n",
    "    print(cost)\n",
    "    \n",
    "name_str = \"./res/kmeans/kmeans-uniform-\"+str(num_clusters)+\"c\"+str(size)+\"s.npy\"    \n",
    "np.save(name_str, res)"
   ]
  },
  {
   "cell_type": "code",
   "execution_count": 127,
   "id": "d3c7c748",
   "metadata": {},
   "outputs": [
    {
     "name": "stdout",
     "output_type": "stream",
     "text": [
      "75.46073871868204\n",
      "74.68238959903377\n",
      "74.90830729395657\n",
      "74.73988430616967\n",
      "74.53718666421031\n",
      "75.84935711949967\n",
      "74.56518608482786\n",
      "74.64365223169615\n",
      "75.20884984994078\n",
      "74.70615628472683\n",
      "74.87085874301633\n",
      "75.24927899168051\n",
      "75.13922804574419\n",
      "74.87150920864161\n",
      "74.65300333219258\n",
      "74.36218738336815\n",
      "74.68265369929877\n",
      "75.35650019304215\n",
      "74.73695602945946\n",
      "74.50523114546864\n"
     ]
    }
   ],
   "source": [
    "num_of_rep = 20\n",
    "res = np.zeros(num_of_rep)\n",
    "num_clusters = 10\n",
    "\n",
    "for t in range(num_of_rep):\n",
    "    dkmeans = distkmeans(X_list, np.ones(num_of_data) / num_of_data, n_c= num_clusters)\n",
    "\n",
    "    dist = dkmeans.transform(X_std)\n",
    "    cost = np.sum((np.min(dist, axis=1)) ** 2) / num_of_data\n",
    "    res[t] = cost\n",
    "    print(cost)\n",
    "\n",
    "name_str = \"./res/kmeans/distkmeans-\"+str(num_clusters)+\"c.npy\"    \n",
    "np.save(name_str, res)"
   ]
  },
  {
   "cell_type": "code",
   "execution_count": 9,
   "id": "5b42d8b7",
   "metadata": {},
   "outputs": [
    {
     "name": "stdout",
     "output_type": "stream",
     "text": [
      "76.16933092317159\n",
      "76.45605367780722\n",
      "77.52983651542255\n",
      "76.08061189979055\n",
      "76.56847816883194\n"
     ]
    },
    {
     "name": "stderr",
     "output_type": "stream",
     "text": [
      "C:\\Users\\thoma\\AppData\\Local\\Temp\\ipykernel_25836\\2868184020.py:51: ConvergenceWarning: Number of distinct clusters (9) found smaller than n_clusters (10). Possibly due to duplicate points in X.\n",
      "  server_kmeans.fit(center_list, sample_weight = center_weights)\n"
     ]
    },
    {
     "name": "stdout",
     "output_type": "stream",
     "text": [
      "77.25550263097848\n",
      "76.42566651173429\n",
      "81.19247991466676\n",
      "76.284550245235\n",
      "77.87532229003337\n",
      "79.3088700846753\n",
      "77.18928903839786\n"
     ]
    },
    {
     "name": "stderr",
     "output_type": "stream",
     "text": [
      "C:\\Users\\thoma\\AppData\\Local\\Temp\\ipykernel_25836\\2868184020.py:51: ConvergenceWarning: Number of distinct clusters (9) found smaller than n_clusters (10). Possibly due to duplicate points in X.\n",
      "  server_kmeans.fit(center_list, sample_weight = center_weights)\n"
     ]
    },
    {
     "name": "stdout",
     "output_type": "stream",
     "text": [
      "81.52991492224803\n",
      "77.28176379745612\n",
      "78.28636103886976\n",
      "77.18456260234456\n",
      "76.92814607141437\n",
      "76.64724271583984\n",
      "76.85096597898489\n"
     ]
    },
    {
     "name": "stderr",
     "output_type": "stream",
     "text": [
      "C:\\Users\\thoma\\AppData\\Local\\Temp\\ipykernel_25836\\2868184020.py:51: ConvergenceWarning: Number of distinct clusters (9) found smaller than n_clusters (10). Possibly due to duplicate points in X.\n",
      "  server_kmeans.fit(center_list, sample_weight = center_weights)\n"
     ]
    },
    {
     "name": "stdout",
     "output_type": "stream",
     "text": [
      "82.05321574139471\n"
     ]
    }
   ],
   "source": [
    "num_of_rep = 20\n",
    "res = np.zeros(num_of_rep)\n",
    "num_clusters = 10\n",
    "size = 1000\n",
    "\n",
    "X1 = X_std[:,:30]\n",
    "X2 = X_std[:,30:60]\n",
    "X3 = X_std[:,60:]\n",
    "\n",
    "X_list = [X1, X2, X3]\n",
    "\n",
    "num_of_rep = 20\n",
    "res = np.zeros(num_of_rep)\n",
    "num_clusters = 10\n",
    "size = 1000\n",
    "\n",
    "for t in range(num_of_rep):\n",
    "    d, w = coreset_kmeans(size, X_list, n_c = num_clusters)\n",
    "    d1 = d[:,:30]\n",
    "    d2 = d[:,30:60]\n",
    "    d3 = d[:,60:]\n",
    "    d_list = [d1,d2,d3]\n",
    "\n",
    "    dkmeans = distkmeans(d_list, w, n_c= num_clusters)\n",
    "\n",
    "    dist = dkmeans.transform(X_std)\n",
    "    cost = np.sum((np.min(dist, axis=1)) ** 2) / num_of_data\n",
    "    res[t] = cost\n",
    "    print(cost)\n",
    "\n",
    "name_str = \"./res/kmeans/distkmeans-coreset-\"+str(num_clusters)+\"c\"+str(size)+\"s.npy\"    \n",
    "np.save(name_str, res)"
   ]
  },
  {
   "cell_type": "code",
   "execution_count": 29,
   "id": "42c92136",
   "metadata": {},
   "outputs": [
    {
     "name": "stdout",
     "output_type": "stream",
     "text": [
      "79.39085358827454\n",
      "76.5606840728351\n"
     ]
    },
    {
     "name": "stderr",
     "output_type": "stream",
     "text": [
      "C:\\Users\\thoma\\AppData\\Local\\Temp\\ipykernel_25836\\2868184020.py:51: ConvergenceWarning: Number of distinct clusters (7) found smaller than n_clusters (10). Possibly due to duplicate points in X.\n",
      "  server_kmeans.fit(center_list, sample_weight = center_weights)\n"
     ]
    },
    {
     "name": "stdout",
     "output_type": "stream",
     "text": [
      "83.18637669950753\n"
     ]
    },
    {
     "name": "stderr",
     "output_type": "stream",
     "text": [
      "C:\\Users\\thoma\\AppData\\Local\\Temp\\ipykernel_25836\\2868184020.py:51: ConvergenceWarning: Number of distinct clusters (9) found smaller than n_clusters (10). Possibly due to duplicate points in X.\n",
      "  server_kmeans.fit(center_list, sample_weight = center_weights)\n"
     ]
    },
    {
     "name": "stdout",
     "output_type": "stream",
     "text": [
      "77.99548294217148\n"
     ]
    },
    {
     "name": "stderr",
     "output_type": "stream",
     "text": [
      "C:\\Users\\thoma\\AppData\\Local\\Temp\\ipykernel_25836\\2868184020.py:51: ConvergenceWarning: Number of distinct clusters (8) found smaller than n_clusters (10). Possibly due to duplicate points in X.\n",
      "  server_kmeans.fit(center_list, sample_weight = center_weights)\n"
     ]
    },
    {
     "name": "stdout",
     "output_type": "stream",
     "text": [
      "79.61920222989568\n",
      "75.58056781913068\n",
      "76.44567707235083\n",
      "76.60954679687987\n",
      "76.29462298199235\n",
      "79.02140500283592\n",
      "76.85751445003629\n",
      "76.78936617684718\n"
     ]
    },
    {
     "name": "stderr",
     "output_type": "stream",
     "text": [
      "C:\\Users\\thoma\\AppData\\Local\\Temp\\ipykernel_25836\\2868184020.py:51: ConvergenceWarning: Number of distinct clusters (8) found smaller than n_clusters (10). Possibly due to duplicate points in X.\n",
      "  server_kmeans.fit(center_list, sample_weight = center_weights)\n"
     ]
    },
    {
     "name": "stdout",
     "output_type": "stream",
     "text": [
      "82.20262456314619\n"
     ]
    },
    {
     "name": "stderr",
     "output_type": "stream",
     "text": [
      "C:\\Users\\thoma\\AppData\\Local\\Temp\\ipykernel_25836\\2868184020.py:51: ConvergenceWarning: Number of distinct clusters (9) found smaller than n_clusters (10). Possibly due to duplicate points in X.\n",
      "  server_kmeans.fit(center_list, sample_weight = center_weights)\n"
     ]
    },
    {
     "name": "stdout",
     "output_type": "stream",
     "text": [
      "80.25219473048512\n"
     ]
    },
    {
     "name": "stderr",
     "output_type": "stream",
     "text": [
      "C:\\Users\\thoma\\AppData\\Local\\Temp\\ipykernel_25836\\2868184020.py:51: ConvergenceWarning: Number of distinct clusters (9) found smaller than n_clusters (10). Possibly due to duplicate points in X.\n",
      "  server_kmeans.fit(center_list, sample_weight = center_weights)\n"
     ]
    },
    {
     "name": "stdout",
     "output_type": "stream",
     "text": [
      "77.63127298677428\n",
      "75.6717266105124\n",
      "75.50828962349925\n",
      "79.17990053311787\n",
      "78.45062958858257\n",
      "79.27173004799764\n"
     ]
    }
   ],
   "source": [
    "num_of_rep = 20\n",
    "res = np.zeros(num_of_rep)\n",
    "num_clusters = 10\n",
    "size = 2000\n",
    "\n",
    "for t in range(num_of_rep):\n",
    "    d = uniform_kmeans(size, X_list, n_c = 10)\n",
    "    d1 = d[:,:30]\n",
    "    d2 = d[:,30:60]\n",
    "    d3 = d[:,60:]\n",
    "    d_list = [d1,d2,d3]\n",
    "\n",
    "    dkmeans = distkmeans(d_list, np.ones(size)/size, n_c= num_clusters)\n",
    "\n",
    "    dist = dkmeans.transform(X_std)\n",
    "    cost = np.sum((np.min(dist, axis=1)) ** 2) / num_of_data\n",
    "    res[t] = cost\n",
    "    print(cost)\n",
    "\n",
    "name_str = \"./res/kmeans/distkmeans-uniform-\"+str(num_clusters)+\"c\"+str(size)+\"s.npy\"    \n",
    "np.save(name_str, res)"
   ]
  },
  {
   "cell_type": "code",
   "execution_count": 33,
   "id": "f5ae498a",
   "metadata": {},
   "outputs": [
    {
     "name": "stdout",
     "output_type": "stream",
     "text": [
      "coreset size 2000\n",
      "75.5363547527181\n",
      "77.38528668315446\n",
      "75.53559154011047\n",
      "75.59207796213053\n",
      "76.350739317434\n",
      "75.77777512618921\n",
      "76.69133547398981\n",
      "78.13804120896341\n",
      "75.8709138204326\n",
      "76.17325606768101\n",
      "75.66381315428715\n",
      "76.1998937903758\n",
      "75.62603211543279\n",
      "75.80646553061983\n"
     ]
    },
    {
     "name": "stderr",
     "output_type": "stream",
     "text": [
      "C:\\Users\\thoma\\AppData\\Local\\Temp\\ipykernel_25836\\2868184020.py:51: ConvergenceWarning: Number of distinct clusters (9) found smaller than n_clusters (10). Possibly due to duplicate points in X.\n",
      "  server_kmeans.fit(center_list, sample_weight = center_weights)\n"
     ]
    },
    {
     "name": "stdout",
     "output_type": "stream",
     "text": [
      "78.04105303405287\n",
      "77.68226659404947\n",
      "75.27006407733847\n",
      "75.97180795113466\n",
      "76.83491150079142\n",
      "76.25849345148525\n",
      "coreset size 3000\n",
      "77.24656687832977\n",
      "74.94057169824639\n",
      "75.18381189429951\n",
      "75.3295937960009\n",
      "75.66144378099693\n",
      "76.19558364633686\n",
      "75.44520705053863\n",
      "75.15427070928938\n",
      "75.21048867333423\n"
     ]
    },
    {
     "name": "stderr",
     "output_type": "stream",
     "text": [
      "C:\\Users\\thoma\\AppData\\Local\\Temp\\ipykernel_25836\\2868184020.py:51: ConvergenceWarning: Number of distinct clusters (9) found smaller than n_clusters (10). Possibly due to duplicate points in X.\n",
      "  server_kmeans.fit(center_list, sample_weight = center_weights)\n"
     ]
    },
    {
     "name": "stdout",
     "output_type": "stream",
     "text": [
      "77.0518804999432\n",
      "75.11972554758319\n",
      "75.39883984070383\n",
      "75.51157300829038\n",
      "75.10381522260461\n",
      "76.06856443709773\n",
      "75.26683755484503\n",
      "74.89981248558833\n",
      "75.04700302337615\n",
      "75.61106776822957\n",
      "74.93432544166811\n",
      "coreset size 4000\n",
      "75.80218102722738\n",
      "75.19652275025298\n",
      "74.84841955891132\n",
      "75.88691771677671\n",
      "75.73979874436826\n",
      "75.29957497705124\n",
      "75.62102698514562\n",
      "74.95892011503688\n",
      "75.12702011027417\n",
      "74.90765721972211\n",
      "75.60267507605069\n",
      "76.05031493206421\n",
      "75.38450238462289\n",
      "75.8167428922834\n",
      "76.18911899380858\n",
      "75.94699330919715\n",
      "74.86438957102115\n",
      "74.93108407641333\n",
      "76.22114446192295\n",
      "75.3966891382549\n",
      "coreset size 5000\n",
      "76.11370380000415\n",
      "75.62497977654564\n",
      "75.21242734738549\n",
      "75.79827494698822\n",
      "74.72059736331603\n",
      "75.3480332719696\n",
      "75.21773664042418\n",
      "75.03646174321243\n",
      "74.47337667176993\n",
      "76.20071900687743\n",
      "75.71927685793742\n",
      "74.62078704433387\n",
      "74.91108808548769\n",
      "75.5216598459384\n",
      "75.51837674922942\n",
      "75.00152204208328\n",
      "75.88803504599571\n",
      "74.94495444480945\n",
      "74.85558645545872\n",
      "74.7028586988418\n",
      "coreset size 6000\n",
      "75.14406624858219\n",
      "75.49969955088766\n",
      "75.53874504212213\n",
      "75.50496662712682\n",
      "75.38214282689098\n",
      "75.48458271647992\n",
      "75.65871697598543\n",
      "75.18982109272699\n",
      "74.85920950384254\n",
      "75.18975310072452\n",
      "75.51497099480427\n",
      "75.78619323797386\n",
      "74.94539160541983\n",
      "75.84786106472241\n",
      "75.59920847393462\n",
      "74.66101441538473\n",
      "75.41742000775639\n",
      "75.17603895633916\n",
      "75.20699547865361\n",
      "74.72963592582079\n"
     ]
    }
   ],
   "source": [
    "# change the coreset size for Coreset+K and Coreset+D\n",
    "num_of_rep = 20\n",
    "num_clusters = 10\n",
    "size_list = [2000,3000,4000,5000,6000]\n",
    "\n",
    "for size in size_list:\n",
    "    print(\"coreset size %d\" % size)\n",
    "    res = np.zeros(num_of_rep)\n",
    "    for t in range(num_of_rep):\n",
    "        d, w = coreset_kmeans(size, X_list, n_c = num_clusters)\n",
    "        d1 = d[:,:30]\n",
    "        d2 = d[:,30:60]\n",
    "        d3 = d[:,60:]\n",
    "        d_list = [d1,d2,d3]\n",
    "\n",
    "        dkmeans = distkmeans(d_list, w, n_c= num_clusters)\n",
    "\n",
    "        dist = dkmeans.transform(X_std)\n",
    "        cost = np.sum((np.min(dist, axis=1)) ** 2) / num_of_data\n",
    "        res[t] = cost\n",
    "        print(cost)\n",
    "\n",
    "    name_str = \"./res/kmeans/distkmeans-coreset-\"+str(num_clusters)+\"c\"+str(size)+\"s.npy\"    \n",
    "    np.save(name_str, res)"
   ]
  },
  {
   "cell_type": "code",
   "execution_count": 34,
   "id": "2b9489e0",
   "metadata": {},
   "outputs": [
    {
     "name": "stdout",
     "output_type": "stream",
     "text": [
      "coreset size 2000\n",
      "72.46134317750244\n",
      "72.52116586551901\n",
      "72.61014470804933\n",
      "72.81573168269493\n",
      "72.33371461289352\n",
      "72.26337975564925\n",
      "73.06211024131603\n",
      "73.62089593151009\n",
      "73.11230152797461\n",
      "72.39632365778596\n",
      "72.67820645948818\n",
      "73.0021798295595\n",
      "72.4452990831582\n",
      "72.93485535299025\n",
      "72.2830870503119\n",
      "73.21546904098415\n",
      "72.47913020763211\n",
      "72.44097881116309\n",
      "72.51648313718226\n",
      "72.50294769810229\n",
      "coreset size 3000\n",
      "72.443642053893\n",
      "72.29599203601175\n",
      "72.18008283071654\n",
      "72.29967256103136\n",
      "72.14654954832103\n",
      "72.0906063076754\n",
      "72.17480883473907\n",
      "72.17939671683786\n",
      "72.71576122429136\n",
      "72.33543159607302\n",
      "72.07657268460652\n",
      "72.23593545905437\n",
      "72.16610404418198\n",
      "71.98147442021279\n",
      "72.16432199864663\n",
      "72.45768627221416\n",
      "72.01440183988669\n",
      "72.2538161800313\n",
      "72.41816291473778\n",
      "72.02112919970678\n",
      "coreset size 4000\n",
      "72.01556694584552\n",
      "72.3091542428201\n",
      "72.05348581287659\n",
      "72.07560139161782\n",
      "72.66235345865563\n",
      "71.95339056708994\n",
      "72.23278218265736\n",
      "72.02783723524247\n",
      "72.18106017754748\n",
      "72.05509406898872\n",
      "71.95371265335658\n",
      "72.55713881255464\n",
      "72.06705877656414\n",
      "72.09403238661407\n",
      "72.1690495589016\n",
      "72.04234329306583\n",
      "72.04505348575653\n",
      "72.2541931725816\n",
      "72.00673799823993\n",
      "71.96153050932621\n",
      "coreset size 5000\n",
      "72.27427661439206\n",
      "71.95215902414024\n",
      "71.89077854309194\n",
      "71.87167356159328\n",
      "72.00548032881458\n",
      "72.23171756599584\n",
      "71.8587279857139\n",
      "72.03095662373306\n",
      "72.16637680884341\n",
      "71.86445591711568\n",
      "71.84288030644284\n",
      "71.91452401904675\n",
      "72.03297987048596\n",
      "71.90441393184163\n",
      "71.86856695726473\n",
      "71.88826793529338\n",
      "71.99504980217738\n",
      "71.90886704249807\n",
      "72.14379240124366\n",
      "71.85274855772253\n",
      "coreset size 6000\n",
      "71.92021780965693\n",
      "71.85059992410248\n",
      "71.9218328443893\n",
      "71.82157530475979\n",
      "71.81056646432141\n",
      "71.98570505572157\n",
      "72.08540049660228\n",
      "71.90988401324141\n",
      "71.86061661491158\n",
      "71.83581796399842\n",
      "71.8683753477408\n",
      "71.90833743344284\n",
      "71.89732810354266\n",
      "71.98974830062193\n",
      "71.91481874490158\n",
      "71.86054750468948\n",
      "72.04604885408924\n",
      "72.14598114650262\n",
      "71.95753602829112\n",
      "71.84680863106443\n"
     ]
    }
   ],
   "source": [
    "num_of_rep = 20\n",
    "num_clusters = 10\n",
    "size_list = [2000,3000,4000,5000,6000]\n",
    "\n",
    "for size in size_list:\n",
    "    print(\"coreset size %d\" % size)\n",
    "    res = np.zeros(num_of_rep)\n",
    "    for t in range(num_of_rep):\n",
    "        d, w = coreset_kmeans(size, X_list, n_c = num_clusters)\n",
    "        ckmeans = KMeans(n_clusters = num_clusters)\n",
    "        ckmeans.fit(d,sample_weight = w)\n",
    "\n",
    "        dist = ckmeans.transform(X_std)\n",
    "        cost = np.sum((np.min(dist, axis=1)) ** 2) / num_of_data\n",
    "        res[t] = cost\n",
    "        print(cost)\n",
    "\n",
    "    name_str = \"./res/kmeans/kmeans-coreset-\"+str(num_clusters)+\"c\"+str(size)+\"s.npy\"    \n",
    "    np.save(name_str, res)"
   ]
  },
  {
   "cell_type": "code",
   "execution_count": 39,
   "id": "0a5ecac5",
   "metadata": {},
   "outputs": [
    {
     "name": "stdout",
     "output_type": "stream",
     "text": [
      "uniform size 1000\n",
      "80.26167986751372\n",
      "81.99329500553782\n",
      "76.91167616043923\n",
      "77.75682460496436\n",
      "78.0466078070221\n",
      "76.71822537725775\n",
      "78.0477706766993\n"
     ]
    },
    {
     "name": "stderr",
     "output_type": "stream",
     "text": [
      "C:\\Users\\thoma\\AppData\\Local\\Temp\\ipykernel_25836\\2868184020.py:51: ConvergenceWarning: Number of distinct clusters (9) found smaller than n_clusters (10). Possibly due to duplicate points in X.\n",
      "  server_kmeans.fit(center_list, sample_weight = center_weights)\n"
     ]
    },
    {
     "name": "stdout",
     "output_type": "stream",
     "text": [
      "79.17226355741911\n"
     ]
    },
    {
     "name": "stderr",
     "output_type": "stream",
     "text": [
      "C:\\Users\\thoma\\AppData\\Local\\Temp\\ipykernel_25836\\2868184020.py:51: ConvergenceWarning: Number of distinct clusters (9) found smaller than n_clusters (10). Possibly due to duplicate points in X.\n",
      "  server_kmeans.fit(center_list, sample_weight = center_weights)\n"
     ]
    },
    {
     "name": "stdout",
     "output_type": "stream",
     "text": [
      "79.50080863952059\n"
     ]
    },
    {
     "name": "stderr",
     "output_type": "stream",
     "text": [
      "C:\\Users\\thoma\\AppData\\Local\\Temp\\ipykernel_25836\\2868184020.py:51: ConvergenceWarning: Number of distinct clusters (9) found smaller than n_clusters (10). Possibly due to duplicate points in X.\n",
      "  server_kmeans.fit(center_list, sample_weight = center_weights)\n"
     ]
    },
    {
     "name": "stdout",
     "output_type": "stream",
     "text": [
      "79.94478846391101\n",
      "77.69643234386326\n",
      "81.30715834193082\n",
      "79.99356675488264\n",
      "78.19853178262592\n",
      "79.59947040222353\n",
      "78.95327589875124\n",
      "77.77877250341777\n",
      "78.54525663340135\n",
      "76.74863838445513\n",
      "80.144310014674\n"
     ]
    }
   ],
   "source": [
    "# change the coreset size for Coreset+K and Coreset+D\n",
    "num_of_rep = 20\n",
    "num_clusters = 10\n",
    "size_list = [1000]\n",
    "\n",
    "for size in size_list:\n",
    "    print(\"uniform size %d\" % size)\n",
    "    res = np.zeros(num_of_rep)\n",
    "    for t in range(num_of_rep):\n",
    "        d = uniform_kmeans(size, X_list, n_c = 10)\n",
    "        d1 = d[:,:30]\n",
    "        d2 = d[:,30:60]\n",
    "        d3 = d[:,60:]\n",
    "        d_list = [d1,d2,d3]\n",
    "\n",
    "        dkmeans = distkmeans(d_list, np.ones(size)/size, n_c= num_clusters)\n",
    "\n",
    "        dist = dkmeans.transform(X_std)\n",
    "        cost = np.sum((np.min(dist, axis=1)) ** 2) / num_of_data\n",
    "        res[t] = cost\n",
    "        print(cost)\n",
    "\n",
    "    name_str = \"./res/kmeans/distkmeans-uniform-\"+str(num_clusters)+\"c\"+str(size)+\"s.npy\"    \n",
    "    np.save(name_str, res)"
   ]
  },
  {
   "cell_type": "code",
   "execution_count": 38,
   "id": "d17c64fa",
   "metadata": {},
   "outputs": [
    {
     "name": "stdout",
     "output_type": "stream",
     "text": [
      "uniform size 1000\n",
      "74.30569766003276\n",
      "73.89319646069934\n",
      "75.26910626431298\n",
      "76.19973633365068\n",
      "73.9986084396271\n",
      "75.35557061985534\n",
      "74.85766155992279\n",
      "75.4529064049674\n",
      "75.09489693326229\n",
      "74.03946914580823\n",
      "75.2082713552428\n",
      "76.5138539191653\n",
      "73.64047519027662\n",
      "75.83735016291122\n",
      "75.73563004018227\n",
      "73.95187054288306\n",
      "74.7788408560981\n",
      "73.99311710707036\n",
      "74.81175722892104\n",
      "75.17107539256627\n"
     ]
    }
   ],
   "source": [
    "# change the coreset size for Coreset+K and Coreset+D\n",
    "num_of_rep = 20\n",
    "num_clusters = 10\n",
    "size_list = [1000]\n",
    "\n",
    "for size in size_list:\n",
    "    print(\"uniform size %d\" % size)\n",
    "    res = np.zeros(num_of_rep)\n",
    "    for t in range(num_of_rep):\n",
    "        d = uniform_kmeans(size, X_list, n_c = num_clusters)\n",
    "\n",
    "        ukmeans = KMeans(n_clusters = num_clusters)\n",
    "        ukmeans.fit(d)\n",
    "\n",
    "        dist = ukmeans.transform(X_std)\n",
    "        cost = np.sum((np.min(dist, axis=1)) ** 2) / num_of_data\n",
    "        res[t] = cost\n",
    "        print(cost)\n",
    "    \n",
    "    name_str = \"./res/kmeans/kmeans-uniform-\"+str(num_clusters)+\"c\"+str(size)+\"s.npy\"    \n",
    "    np.save(name_str, res)"
   ]
  },
  {
   "cell_type": "code",
   "execution_count": null,
   "id": "30c48ae3",
   "metadata": {},
   "outputs": [],
   "source": []
  }
 ],
 "metadata": {
  "kernelspec": {
   "display_name": "Python 3 (ipykernel)",
   "language": "python",
   "name": "python3"
  },
  "language_info": {
   "codemirror_mode": {
    "name": "ipython",
    "version": 3
   },
   "file_extension": ".py",
   "mimetype": "text/x-python",
   "name": "python",
   "nbconvert_exporter": "python",
   "pygments_lexer": "ipython3",
   "version": "3.8.12"
  }
 },
 "nbformat": 4,
 "nbformat_minor": 5
}
