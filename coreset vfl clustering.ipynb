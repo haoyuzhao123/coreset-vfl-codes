{
 "cells": [
  {
   "cell_type": "code",
   "execution_count": 9,
   "id": "4251a402",
   "metadata": {},
   "outputs": [],
   "source": [
    "import numpy as np\n",
    "import scipy as sp\n",
    "import pandas as pd\n",
    "\n",
    "from sklearn.preprocessing import StandardScaler\n",
    "\n",
    "from sklearn.cluster import KMeans"
   ]
  },
  {
   "cell_type": "code",
   "execution_count": 5,
   "id": "7bbb841c",
   "metadata": {},
   "outputs": [],
   "source": [
    "# reading data\n",
    "data = pd.read_csv(\"year_prediction.csv\")\n",
    "data = data.rename(index=str, columns={\"label\":\"year\"})"
   ]
  },
  {
   "cell_type": "code",
   "execution_count": 12,
   "id": "e92a6880",
   "metadata": {},
   "outputs": [],
   "source": [
    "# separate input attributes and output into different dataframes\n",
    "X = data.iloc[:,1:]\n",
    "Y = data.iloc[:,0]\n",
    "\n",
    "# normalized the training set X\n",
    "scaler = StandardScaler()\n",
    "scaler.fit(X)\n",
    "X_std = scaler.transform(X)\n",
    "\n",
    "num_of_data, _ = X_std.shape"
   ]
  },
  {
   "cell_type": "code",
   "execution_count": 121,
   "id": "4ea3fa82",
   "metadata": {},
   "outputs": [
    {
     "name": "stdout",
     "output_type": "stream",
     "text": [
      "71.65047255247167\n",
      "71.65037839463994\n",
      "71.65038445285383\n",
      "71.65043678725971\n",
      "71.65055173588914\n",
      "71.65043621527752\n",
      "71.65043481087723\n",
      "71.65066602130086\n",
      "71.65744870527136\n",
      "71.65045610855871\n",
      "71.65057260055757\n",
      "71.65039727026986\n",
      "71.65057172896067\n",
      "71.65042962393274\n",
      "71.66007752663573\n",
      "71.6505658605916\n",
      "71.65057189113001\n",
      "71.65051012927415\n",
      "71.65057042708213\n",
      "71.65041435398359\n"
     ]
    }
   ],
   "source": [
    "num_of_rep = 20\n",
    "res = np.zeros(num_of_rep)\n",
    "num_clusters = 10\n",
    "\n",
    "for t in range(num_of_rep):\n",
    "    kmeans = KMeans(n_clusters = num_clusters)\n",
    "    kmeans.fit(X_std)\n",
    "    record = kmeans.inertia_ / num_of_data\n",
    "    res[t] = record\n",
    "    print(record)\n",
    "\n",
    "name_str = \"./res/kmeans/kmeans-\"+str(num_clusters)+\"c.npy\"    \n",
    "np.save(name_str, res)"
   ]
  },
  {
   "cell_type": "code",
   "execution_count": 122,
   "id": "7ba078d1",
   "metadata": {},
   "outputs": [],
   "source": [
    "def decode(number, b, t):\n",
    "    res = []\n",
    "    for _ in range(t):\n",
    "        r = number % b\n",
    "        res.append(r)\n",
    "        number = (number - r) // b\n",
    "    res.reverse()\n",
    "    return res\n",
    "\n",
    "def encode(number_list, b, t):\n",
    "    res = 0\n",
    "    number_list.reverse()\n",
    "    for i in range(t):\n",
    "        res += number_list[i] * (b ** i)\n",
    "    return res\n",
    "\n",
    "def distkmeans(D_list, w_list, n_c = 10):\n",
    "    D = np.hstack(D_list)\n",
    "    num_of_party = len(D_list)\n",
    "    num_of_data, _ = D_list[0].shape\n",
    "    kmeans_list = []\n",
    "    total_dim = 0\n",
    "    label_list = []\n",
    "    for j in range(num_of_party):\n",
    "        kmeans_list.append(KMeans(n_clusters = n_c))\n",
    "        _, party_dim = D_list[j].shape\n",
    "        total_dim += party_dim\n",
    "        label = kmeans_list[j].fit_predict(D_list[j], sample_weight = w_list[j])\n",
    "        label_list.append(label)\n",
    "    \n",
    "    grids_number = n_c ** num_of_party\n",
    "    center_list = np.zeros((grids_number, total_dim))\n",
    "    center_weights = np.zeros(grids_number)\n",
    "    \n",
    "    for h in range(grids_number):\n",
    "        h_decode = decode(h, n_c, num_of_party)\n",
    "        temp = []\n",
    "        for j in range(num_of_party):\n",
    "            temp.append((kmeans_list[j].cluster_centers_)[h_decode[j],:])\n",
    "        center_list[h, :] = np.concatenate(temp)\n",
    "    \n",
    "    for i in range(num_of_data):\n",
    "        temp = [l[i] for l in label_list]\n",
    "        idx = encode(temp, n_c, num_of_party)\n",
    "        center_weights[idx] += w_list[i]\n",
    "    \n",
    "    # normalize center_weights to 1\n",
    "    center_weights = center_weights / np.sum(center_weights)\n",
    "    \n",
    "    server_kmeans = KMeans(n_clusters = n_c)\n",
    "    server_kmeans.fit(center_list, sample_weight = center_weights)\n",
    "    return server_kmeans"
   ]
  },
  {
   "cell_type": "code",
   "execution_count": 140,
   "id": "01a88d05",
   "metadata": {},
   "outputs": [],
   "source": [
    "def uniform_kmeans(m, D_list, n_c = 10):\n",
    "    D = np.hstack(D_list)\n",
    "    D_df = pd.DataFrame(D)\n",
    "    C = D_df.sample(n=m, replace=False)\n",
    "    C = C.to_numpy()\n",
    "    return C\n",
    "\n",
    "def coreset_kmeans(m, D_list, n_c = 10):\n",
    "    alpha = 2\n",
    "    D = np.hstack(D_list)\n",
    "    num_of_party = len(D_list)\n",
    "    num_of_data, _ = D_list[0].shape\n",
    "    kmeans_list = []\n",
    "    label_list = []\n",
    "    groupcost_list = []\n",
    "    groupcount_list = []\n",
    "    sensitivity = np.zeros((num_of_data, num_of_party))\n",
    "    for j in range(num_of_party):\n",
    "        kmeans_list.append(KMeans(n_clusters = n_c))\n",
    "        label = kmeans_list[j].fit_predict(D_list[j])\n",
    "        label_list.append(label)\n",
    "        groupcost = np.zeros(n_c)\n",
    "        groupcount = np.zeros(n_c)\n",
    "        cost = kmeans_list[j].inertia_ / num_of_data\n",
    "        t = kmeans_list[j].transform(D_list[j])\n",
    "        for i in range(num_of_data):\n",
    "            groupcount[label[i]] += 1\n",
    "            groupcost[label[i]] += t[i,label[i]] ** 2\n",
    "        for i in range(num_of_data):\n",
    "            sensitivity[i,j] = alpha * (t[i,label[i]] ** 2) / cost \\\n",
    "                        + 2 * alpha * groupcost[label[i]] / (groupcount[label[i]] * cost) + 4 * num_of_data / groupcount[label[i]]\n",
    "    s = np.sum(sensitivity, axis=1)\n",
    "    D_df = pd.DataFrame(np.hstack((D, (1/s).reshape(-1,1))))\n",
    "    C = D_df.sample(n=m, replace=False, weights=s)\n",
    "    C = C.to_numpy()\n",
    "    data = C[:,:-1]\n",
    "    weights = C[:,-1]\n",
    "    return data, weights"
   ]
  },
  {
   "cell_type": "code",
   "execution_count": 125,
   "id": "9c4551c7",
   "metadata": {},
   "outputs": [
    {
     "name": "stdout",
     "output_type": "stream",
     "text": [
      "73.46019681608169\n",
      "73.44234567211778\n",
      "74.23817445185314\n",
      "73.50473315261743\n",
      "73.8470045225081\n",
      "73.83340940298976\n",
      "74.10437548157843\n",
      "73.14254030775075\n",
      "73.37503297719871\n",
      "73.22802974817957\n",
      "74.44289338836494\n",
      "73.44334870173103\n",
      "74.29590281199722\n",
      "74.0795713427415\n",
      "73.44194770990273\n",
      "74.06784220645517\n",
      "74.2770960732288\n",
      "73.5925707763438\n",
      "73.69805438857364\n",
      "73.67229988940595\n"
     ]
    }
   ],
   "source": [
    "num_of_rep = 20\n",
    "res = np.zeros(num_of_rep)\n",
    "num_clusters = 10\n",
    "size = 1000\n",
    "\n",
    "X1 = X_std[:,:30]\n",
    "X2 = X_std[:,30:60]\n",
    "X3 = X_std[:,60:]\n",
    "\n",
    "X_list = [X1, X2, X3]\n",
    "\n",
    "for t in range(num_of_rep):\n",
    "    d, w = coreset_kmeans(size, X_list, n_c = num_clusters)\n",
    "    ckmeans = KMeans(n_clusters = num_clusters)\n",
    "    ckmeans.fit(d,sample_weight = w)\n",
    "\n",
    "    dist = ckmeans.transform(X_std)\n",
    "    cost = np.sum((np.min(dist, axis=1)) ** 2) / num_of_data\n",
    "    res[t] = cost\n",
    "    print(cost)\n",
    "\n",
    "name_str = \"./res/kmeans/kmeans-coreset-\"+str(num_clusters)+\"c\"+str(size)+\"s.npy\"    \n",
    "np.save(name_str, res)"
   ]
  },
  {
   "cell_type": "code",
   "execution_count": 126,
   "id": "fce35caa",
   "metadata": {},
   "outputs": [
    {
     "name": "stdout",
     "output_type": "stream",
     "text": [
      "74.60773761857315\n",
      "74.46379461667574\n",
      "74.31445072551573\n",
      "74.77631191758621\n",
      "75.17442865607056\n",
      "74.84934256775868\n",
      "74.35092542999016\n",
      "75.22326893919981\n",
      "73.99118084613146\n",
      "75.91510853085776\n",
      "75.21992427041205\n",
      "74.39086570103453\n",
      "74.0110563130215\n",
      "74.55765218811541\n",
      "75.300768914269\n",
      "74.22327394436816\n",
      "73.79944559887997\n",
      "76.1726561268547\n",
      "75.17044125955279\n",
      "74.24681199262298\n"
     ]
    }
   ],
   "source": [
    "num_of_rep = 20\n",
    "res = np.zeros(num_of_rep)\n",
    "num_clusters = 10\n",
    "size = 1000\n",
    "\n",
    "for t in range(num_of_rep):\n",
    "    d = uniform_kmeans(size, X_list, n_c = num_clusters)\n",
    "\n",
    "    ukmeans = KMeans(n_clusters = num_clusters)\n",
    "    ukmeans.fit(d)\n",
    "\n",
    "    dist = ukmeans.transform(X_std)\n",
    "    cost = np.sum((np.min(dist, axis=1)) ** 2) / num_of_data\n",
    "    res[t] = cost\n",
    "    print(cost)\n",
    "    \n",
    "name_str = \"./res/kmeans/kmeans-uniform-\"+str(num_clusters)+\"c\"+str(size)+\"s.npy\"    \n",
    "np.save(name_str, res)"
   ]
  },
  {
   "cell_type": "code",
   "execution_count": 127,
   "id": "d3c7c748",
   "metadata": {},
   "outputs": [
    {
     "name": "stdout",
     "output_type": "stream",
     "text": [
      "75.46073871868204\n",
      "74.68238959903377\n",
      "74.90830729395657\n",
      "74.73988430616967\n",
      "74.53718666421031\n",
      "75.84935711949967\n",
      "74.56518608482786\n",
      "74.64365223169615\n",
      "75.20884984994078\n",
      "74.70615628472683\n",
      "74.87085874301633\n",
      "75.24927899168051\n",
      "75.13922804574419\n",
      "74.87150920864161\n",
      "74.65300333219258\n",
      "74.36218738336815\n",
      "74.68265369929877\n",
      "75.35650019304215\n",
      "74.73695602945946\n",
      "74.50523114546864\n"
     ]
    }
   ],
   "source": [
    "num_of_rep = 20\n",
    "res = np.zeros(num_of_rep)\n",
    "num_clusters = 10\n",
    "\n",
    "for t in range(num_of_rep):\n",
    "    dkmeans = distkmeans(X_list, np.ones(num_of_data) / num_of_data, n_c= num_clusters)\n",
    "\n",
    "    dist = dkmeans.transform(X_std)\n",
    "    cost = np.sum((np.min(dist, axis=1)) ** 2) / num_of_data\n",
    "    res[t] = cost\n",
    "    print(cost)\n",
    "\n",
    "name_str = \"./res/kmeans/distkmeans-\"+str(num_clusters)+\"c.npy\"    \n",
    "np.save(name_str, res)"
   ]
  },
  {
   "cell_type": "code",
   "execution_count": 135,
   "id": "5b42d8b7",
   "metadata": {},
   "outputs": [
    {
     "name": "stdout",
     "output_type": "stream",
     "text": [
      "82.89508344173267\n",
      "78.17332375380256\n",
      "82.1344160206706\n",
      "79.42853395264149\n",
      "79.06359200244641\n",
      "80.85760950781842\n",
      "77.79485577719838\n",
      "82.27749010803342\n",
      "80.8792909961697\n",
      "78.60302115292285\n",
      "81.51629832240022\n",
      "81.50396228098326\n",
      "78.67847565851679\n",
      "78.09106017734493\n",
      "79.60122252403028\n",
      "77.64333474643502\n",
      "82.94515820001148\n",
      "81.90834942909983\n",
      "79.74436504663365\n",
      "78.99582933040439\n"
     ]
    }
   ],
   "source": [
    "num_of_rep = 20\n",
    "res = np.zeros(num_of_rep)\n",
    "num_clusters = 10\n",
    "size = 1000\n",
    "\n",
    "for t in range(num_of_rep):\n",
    "    d, w = coreset_kmeans(size, X_list, n_c = num_clusters)\n",
    "    d1 = d[:,:30]\n",
    "    d2 = d[:,30:60]\n",
    "    d3 = d[:,60:]\n",
    "    d_list = [d1,d2,d3]\n",
    "\n",
    "    dkmeans = distkmeans(d_list, w, n_c= num_clusters)\n",
    "\n",
    "    dist = dkmeans.transform(X_std)\n",
    "    cost = np.sum((np.min(dist, axis=1)) ** 2) / num_of_data\n",
    "    res[t] = cost\n",
    "    print(cost)\n",
    "\n",
    "name_str = \"./res/kmeans/distkmeans-coreset-\"+str(num_clusters)+\"c\"+str(size)+\"s.npy\"    \n",
    "np.save(name_str, res)"
   ]
  },
  {
   "cell_type": "code",
   "execution_count": 146,
   "id": "42c92136",
   "metadata": {},
   "outputs": [
    {
     "name": "stdout",
     "output_type": "stream",
     "text": [
      "83.7401688838184\n",
      "76.73987287624985\n",
      "79.82042045170763\n",
      "76.66487988730418\n",
      "79.49220888350868\n",
      "78.31231394027009\n",
      "77.51736852769194\n"
     ]
    },
    {
     "name": "stderr",
     "output_type": "stream",
     "text": [
      "C:\\Users\\thoma\\AppData\\Local\\Temp\\ipykernel_25432\\1178744639.py:51: ConvergenceWarning: Number of distinct clusters (9) found smaller than n_clusters (10). Possibly due to duplicate points in X.\n",
      "  server_kmeans.fit(center_list, sample_weight = center_weights)\n"
     ]
    },
    {
     "name": "stdout",
     "output_type": "stream",
     "text": [
      "85.90073372219145\n",
      "76.60469045595319\n"
     ]
    },
    {
     "name": "stderr",
     "output_type": "stream",
     "text": [
      "C:\\Users\\thoma\\AppData\\Local\\Temp\\ipykernel_25432\\1178744639.py:51: ConvergenceWarning: Number of distinct clusters (9) found smaller than n_clusters (10). Possibly due to duplicate points in X.\n",
      "  server_kmeans.fit(center_list, sample_weight = center_weights)\n"
     ]
    },
    {
     "name": "stdout",
     "output_type": "stream",
     "text": [
      "81.09228293706421\n",
      "82.8331629089136\n",
      "78.20572496101285\n",
      "78.39609716472633\n",
      "76.85923906041907\n"
     ]
    },
    {
     "name": "stderr",
     "output_type": "stream",
     "text": [
      "C:\\Users\\thoma\\AppData\\Local\\Temp\\ipykernel_25432\\1178744639.py:51: ConvergenceWarning: Number of distinct clusters (9) found smaller than n_clusters (10). Possibly due to duplicate points in X.\n",
      "  server_kmeans.fit(center_list, sample_weight = center_weights)\n"
     ]
    },
    {
     "name": "stdout",
     "output_type": "stream",
     "text": [
      "86.99701133896076\n"
     ]
    },
    {
     "name": "stderr",
     "output_type": "stream",
     "text": [
      "C:\\Users\\thoma\\AppData\\Local\\Temp\\ipykernel_25432\\1178744639.py:51: ConvergenceWarning: Number of distinct clusters (9) found smaller than n_clusters (10). Possibly due to duplicate points in X.\n",
      "  server_kmeans.fit(center_list, sample_weight = center_weights)\n"
     ]
    },
    {
     "name": "stdout",
     "output_type": "stream",
     "text": [
      "83.75390650887482\n",
      "80.49824573909274\n",
      "79.07890096114197\n",
      "78.44241781896122\n",
      "78.74596817766131\n"
     ]
    },
    {
     "ename": "FileNotFoundError",
     "evalue": "[Errno 2] No such file or directory: './res/kmeans/distkmeans-uniform-10c1000s.npy'",
     "output_type": "error",
     "traceback": [
      "\u001b[1;31m---------------------------------------------------------------------------\u001b[0m",
      "\u001b[1;31mFileNotFoundError\u001b[0m                         Traceback (most recent call last)",
      "Input \u001b[1;32mIn [146]\u001b[0m, in \u001b[0;36m<cell line: 21>\u001b[1;34m()\u001b[0m\n\u001b[0;32m     18\u001b[0m     \u001b[38;5;28mprint\u001b[39m(cost)\n\u001b[0;32m     20\u001b[0m name_str \u001b[38;5;241m=\u001b[39m \u001b[38;5;124m\"\u001b[39m\u001b[38;5;124m./res/kmeans/distkmeans-uniform-\u001b[39m\u001b[38;5;124m\"\u001b[39m\u001b[38;5;241m+\u001b[39m\u001b[38;5;28mstr\u001b[39m(num_clusters)\u001b[38;5;241m+\u001b[39m\u001b[38;5;124m\"\u001b[39m\u001b[38;5;124mc\u001b[39m\u001b[38;5;124m\"\u001b[39m\u001b[38;5;241m+\u001b[39m\u001b[38;5;28mstr\u001b[39m(size)\u001b[38;5;241m+\u001b[39m\u001b[38;5;124m\"\u001b[39m\u001b[38;5;124ms.npy\u001b[39m\u001b[38;5;124m\"\u001b[39m    \n\u001b[1;32m---> 21\u001b[0m \u001b[43mnp\u001b[49m\u001b[38;5;241;43m.\u001b[39;49m\u001b[43msave\u001b[49m\u001b[43m(\u001b[49m\u001b[43mname_str\u001b[49m\u001b[43m,\u001b[49m\u001b[43m \u001b[49m\u001b[43mres\u001b[49m\u001b[43m)\u001b[49m\n",
      "File \u001b[1;32m<__array_function__ internals>:5\u001b[0m, in \u001b[0;36msave\u001b[1;34m(*args, **kwargs)\u001b[0m\n",
      "File \u001b[1;32m~\\anaconda3\\envs\\py38\\lib\\site-packages\\numpy\\lib\\npyio.py:525\u001b[0m, in \u001b[0;36msave\u001b[1;34m(file, arr, allow_pickle, fix_imports)\u001b[0m\n\u001b[0;32m    523\u001b[0m     \u001b[38;5;28;01mif\u001b[39;00m \u001b[38;5;129;01mnot\u001b[39;00m file\u001b[38;5;241m.\u001b[39mendswith(\u001b[38;5;124m'\u001b[39m\u001b[38;5;124m.npy\u001b[39m\u001b[38;5;124m'\u001b[39m):\n\u001b[0;32m    524\u001b[0m         file \u001b[38;5;241m=\u001b[39m file \u001b[38;5;241m+\u001b[39m \u001b[38;5;124m'\u001b[39m\u001b[38;5;124m.npy\u001b[39m\u001b[38;5;124m'\u001b[39m\n\u001b[1;32m--> 525\u001b[0m     file_ctx \u001b[38;5;241m=\u001b[39m \u001b[38;5;28;43mopen\u001b[39;49m\u001b[43m(\u001b[49m\u001b[43mfile\u001b[49m\u001b[43m,\u001b[49m\u001b[43m \u001b[49m\u001b[38;5;124;43m\"\u001b[39;49m\u001b[38;5;124;43mwb\u001b[39;49m\u001b[38;5;124;43m\"\u001b[39;49m\u001b[43m)\u001b[49m\n\u001b[0;32m    527\u001b[0m \u001b[38;5;28;01mwith\u001b[39;00m file_ctx \u001b[38;5;28;01mas\u001b[39;00m fid:\n\u001b[0;32m    528\u001b[0m     arr \u001b[38;5;241m=\u001b[39m np\u001b[38;5;241m.\u001b[39masanyarray(arr)\n",
      "\u001b[1;31mFileNotFoundError\u001b[0m: [Errno 2] No such file or directory: './res/kmeans/distkmeans-uniform-10c1000s.npy'"
     ]
    }
   ],
   "source": [
    "num_of_rep = 20\n",
    "res = np.zeros(num_of_rep)\n",
    "num_clusters = 10\n",
    "size = 1000\n",
    "\n",
    "for t in range(num_of_rep):\n",
    "    d = uniform_kmeans(1000, X_list, n_c = 10)\n",
    "    d1 = d[:,:30]\n",
    "    d2 = d[:,30:60]\n",
    "    d3 = d[:,60:]\n",
    "    d_list = [d1,d2,d3]\n",
    "\n",
    "    dkmeans = distkmeans(d_list, np.ones(1000)/1000, n_c= 10)\n",
    "\n",
    "    dist = dkmeans.transform(X_std)\n",
    "    cost = np.sum((np.min(dist, axis=1)) ** 2) / num_of_data\n",
    "    res[t] = cost\n",
    "    print(cost)\n",
    "\n",
    "name_str = \"./res/kmeans/distkmeans-uniform-\"+str(num_clusters)+\"c\"+str(size)+\"s.npy\"    \n",
    "np.save(name_str, res)"
   ]
  },
  {
   "cell_type": "code",
   "execution_count": null,
   "id": "92356fb4",
   "metadata": {},
   "outputs": [],
   "source": []
  }
 ],
 "metadata": {
  "kernelspec": {
   "display_name": "Python 3 (ipykernel)",
   "language": "python",
   "name": "python3"
  },
  "language_info": {
   "codemirror_mode": {
    "name": "ipython",
    "version": 3
   },
   "file_extension": ".py",
   "mimetype": "text/x-python",
   "name": "python",
   "nbconvert_exporter": "python",
   "pygments_lexer": "ipython3",
   "version": "3.8.12"
  }
 },
 "nbformat": 4,
 "nbformat_minor": 5
}
