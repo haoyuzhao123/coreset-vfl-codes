{
 "cells": [
  {
   "cell_type": "code",
   "execution_count": 127,
   "id": "d715e3a1",
   "metadata": {},
   "outputs": [],
   "source": [
    "import numpy as np\n",
    "import scipy as sp\n",
    "import pandas as pd\n",
    "\n",
    "from sklearn.linear_model import LinearRegression"
   ]
  },
  {
   "cell_type": "code",
   "execution_count": 128,
   "id": "aa8169a8",
   "metadata": {},
   "outputs": [],
   "source": [
    "# reading data\n",
    "data = pd.read_csv(\"year_prediction.csv\")\n",
    "data = data.rename(index=str, columns={\"label\":\"year\"})"
   ]
  },
  {
   "cell_type": "code",
   "execution_count": 129,
   "id": "f18e3ac3",
   "metadata": {},
   "outputs": [],
   "source": [
    "# separate input attributes and output into different dataframes\n",
    "X = data.iloc[:,1:]\n",
    "Y = data.iloc[:,0]\n",
    "\n",
    "# Train set\n",
    "X_train = X.iloc[0:463715,:]\n",
    "y_train = Y.iloc[0:463715]\n",
    "\n",
    "# Validation set\n",
    "X_test = X.iloc[463715:,:]\n",
    "y_test = Y.iloc[463715:]"
   ]
  },
  {
   "cell_type": "code",
   "execution_count": 198,
   "id": "0c708a30",
   "metadata": {},
   "outputs": [
    {
     "data": {
      "text/plain": [
       "LinearRegression()"
      ]
     },
     "execution_count": 198,
     "metadata": {},
     "output_type": "execute_result"
    }
   ],
   "source": [
    "X_train = X_train.to_numpy()\n",
    "y_train = y_train.to_numpy()\n",
    "linearReg = LinearRegression()\n",
    "linearReg.fit(X_train, y_train)"
   ]
  },
  {
   "cell_type": "code",
   "execution_count": 199,
   "id": "0e3f3298",
   "metadata": {},
   "outputs": [
    {
     "name": "stdout",
     "output_type": "stream",
     "text": [
      "91.2564266561149\n"
     ]
    }
   ],
   "source": [
    "pred = linearReg.predict(X_train)\n",
    "total_cost = np.sum((pred - y_train) ** 2) / 463715\n",
    "print(total_cost)"
   ]
  },
  {
   "cell_type": "code",
   "execution_count": 275,
   "id": "9bc24eff",
   "metadata": {},
   "outputs": [],
   "source": [
    "# construct coreset\n",
    "def coreset_lr(m, D, y):\n",
    "    # m is the number of samples, X is the data\n",
    "    num_of_data, _ = D.shape\n",
    "    D = np.hstack((D,y.reshape(-1,1)))\n",
    "    #s = np.sum(D ** 2, axis=1) + 1 / num_of_data\n",
    "    D1 = D[:,:30]\n",
    "    D2 = D[:,30:60]\n",
    "    D3 = D[:,60:]\n",
    "    q1, _ = np.linalg.qr(D1)\n",
    "    q2, _ = np.linalg.qr(D2)\n",
    "    q3, _ = np.linalg.qr(D2)\n",
    "    Q = np.hstack((q1,q2,q3))\n",
    "    \n",
    "    s = np.sum(Q ** 2, axis=1) + 1/num_of_data\n",
    "    print(s[:10])\n",
    "    #D = np.hstack((D, y.to_numpy().reshape(-1,1)))\n",
    "    D = np.hstack((D, (1/s).reshape(-1,1)))\n",
    "    D_df = pd.DataFrame(D)\n",
    "    C = D_df.sample(n=m, replace=False, weights=s)\n",
    "    C = C.to_numpy()\n",
    "    data = C[:,:-2]\n",
    "    label = C[:,-2]\n",
    "    weight = C[:,-1]\n",
    "    print(data.shape)\n",
    "    return data, label, weight.reshape(-1)\n",
    "\n",
    "def uniform_lr(m,D,y):\n",
    "    D = np.hstack((D, y.reshape(-1,1)))\n",
    "    #D = np.hstack((D, y.to_numpy().reshape(-1,1)))\n",
    "    D_df = pd.DataFrame(D)\n",
    "    C = D_df.sample(n=m, replace=False)\n",
    "    C = C.to_numpy()\n",
    "    data = C[:,:-1]\n",
    "    label = C[:,-1]\n",
    "    return data, label"
   ]
  },
  {
   "cell_type": "code",
   "execution_count": 284,
   "id": "6062273b",
   "metadata": {},
   "outputs": [
    {
     "name": "stdout",
     "output_type": "stream",
     "text": [
      "[4.64233677e-05 8.44351724e-05 3.86045718e-05 6.43181809e-05\n",
      " 4.97029785e-05 5.35264684e-05 1.61258768e-04 6.63347188e-05\n",
      " 4.04543119e-05 2.00939575e-04]\n",
      "(5000, 90)\n",
      "93.1354558205793\n"
     ]
    }
   ],
   "source": [
    "coreset_X, coreset_y, weight = coreset_lr(5000,X_train,y_train)\n",
    "linearReg.fit(coreset_X, coreset_y, weight)\n",
    "\n",
    "#coreset_X, coreset_y, _ = coreset_lr(5000,X_train,y_train)\n",
    "#linearReg.fit(coreset_X, coreset_y)\n",
    "\n",
    "pred = linearReg.predict(X_train)\n",
    "total_cost = np.sum((pred - y_train.reshape(-1)) ** 2) / 463715\n",
    "print(total_cost)"
   ]
  },
  {
   "cell_type": "code",
   "execution_count": 285,
   "id": "03b96d6a",
   "metadata": {},
   "outputs": [
    {
     "name": "stdout",
     "output_type": "stream",
     "text": [
      "93.11383677519406\n"
     ]
    }
   ],
   "source": [
    "uniform_X, uniform_y = uniform_lr(5000,X_train,y_train)\n",
    "linearReg.fit(uniform_X, uniform_y)\n",
    "\n",
    "pred = linearReg.predict(X_train)\n",
    "total_cost = np.sum((pred - y_train.reshape(-1)) ** 2) / 463715\n",
    "print(total_cost)"
   ]
  },
  {
   "cell_type": "code",
   "execution_count": 286,
   "id": "59106c13",
   "metadata": {},
   "outputs": [
    {
     "name": "stdout",
     "output_type": "stream",
     "text": [
      "0.3680022108329327\n"
     ]
    }
   ],
   "source": [
    "a = 1\n",
    "for i in range(1000):\n",
    "    a *= (500000-i) / 500000\n",
    "print(a)"
   ]
  },
  {
   "cell_type": "code",
   "execution_count": null,
   "id": "82ecc471",
   "metadata": {},
   "outputs": [],
   "source": []
  }
 ],
 "metadata": {
  "kernelspec": {
   "display_name": "Python 3 (ipykernel)",
   "language": "python",
   "name": "python3"
  },
  "language_info": {
   "codemirror_mode": {
    "name": "ipython",
    "version": 3
   },
   "file_extension": ".py",
   "mimetype": "text/x-python",
   "name": "python",
   "nbconvert_exporter": "python",
   "pygments_lexer": "ipython3",
   "version": "3.8.12"
  }
 },
 "nbformat": 4,
 "nbformat_minor": 5
}
