{
 "cells": [
  {
   "cell_type": "code",
   "execution_count": 23,
   "id": "f1ef8e58",
   "metadata": {},
   "outputs": [],
   "source": [
    "import numpy as np\n",
    "import matplotlib.pyplot as plt"
   ]
  },
  {
   "cell_type": "code",
   "execution_count": 27,
   "id": "09d9201c",
   "metadata": {},
   "outputs": [],
   "source": [
    "num_of_data = 515345\n",
    "num_of_dim = 90\n",
    "num_of_party = 3\n",
    "num_of_sample = 1000\n",
    "num_of_center = 10"
   ]
  },
  {
   "cell_type": "code",
   "execution_count": 35,
   "id": "c60b8b7f",
   "metadata": {},
   "outputs": [],
   "source": [
    "def kmeans_comm(n_data, n_dim):\n",
    "    return n_data * n_dim\n",
    "\n",
    "def uniform_comm(n_size, n_party):\n",
    "    return n_size * n_party\n",
    "\n",
    "def coreset_comm(n_size, n_party):\n",
    "    return n_party + n_size * (2 + 2 * n_party)\n",
    "\n",
    "def uniform_kmeans_comm(n_size, n_party, n_dim):\n",
    "    return uniform_comm(n_size, n_party) + kmeans_comm(n_size, n_dim)\n",
    "\n",
    "def coreset_kmeans_comm(n_size, n_party, n_dim):\n",
    "    return coreset_comm(n_size, n_party) + kmeans_comm(n_size, n_dim)\n",
    "\n",
    "def distkmeans_comm(n_data, n_party, n_dim, n_center):\n",
    "    return n_dim * n_center + n_data * n_party\n",
    "\n",
    "def uniform_distkmeans_comm(n_size, n_party, n_dim, n_center):\n",
    "    return uniform_comm(n_size, n_party) + distkmeans_comm(n_size, n_party, n_dim, n_center)\n",
    "\n",
    "def coreset_distkmeans_comm(n_size, n_party, n_dim, n_center):\n",
    "    return coreset_comm(n_size, n_party) + distkmeans_comm(n_size, n_party, n_dim, n_center)"
   ]
  },
  {
   "cell_type": "code",
   "execution_count": 41,
   "id": "7d387b89",
   "metadata": {},
   "outputs": [],
   "source": [
    "def box_plot(data, ax, labels, edge_color, fill_color):\n",
    "    bp = ax.boxplot(data, labels = labels, patch_artist=True)\n",
    "    \n",
    "    for element in ['boxes', 'whiskers', 'fliers', 'means', 'medians', 'caps']:\n",
    "        plt.setp(bp[element], color=edge_color)\n",
    "\n",
    "    for patch in bp['boxes']:\n",
    "        patch.set(facecolor=fill_color)       \n",
    "        \n",
    "    return bp"
   ]
  },
  {
   "cell_type": "code",
   "execution_count": 53,
   "id": "294e52ae",
   "metadata": {},
   "outputs": [
    {
     "data": {
      "image/png": "[encoded data removed]",
      "text/plain": [
       "<Figure size 432x288 with 2 Axes>"
      ]
     },
     "metadata": {
      "needs_background": "light"
     },
     "output_type": "display_data"
    }
   ],
   "source": [
    "a = np.load(\"./res/kmeans-res/kmeans-10c.npy\")\n",
    "b = np.load(\"./res/kmeans-res/kmeans-coreset-10c1000s.npy\")\n",
    "c = np.load(\"./res/kmeans-res/kmeans-uniform-10c1000s.npy\")\n",
    "d = np.load(\"./res/kmeans-res/distkmeans-10c.npy\")\n",
    "e = np.load(\"./res/kmeans-res/distkmeans-coreset-10c1000s.npy\")\n",
    "f = np.load(\"./res/kmeans-res/distkmeans-uniform-10c1000s.npy\")\n",
    "\n",
    "a_comm = kmeans_comm(num_of_data, num_of_dim)\n",
    "b_comm = coreset_kmeans_comm(num_of_sample, num_of_party, num_of_dim)\n",
    "c_comm = uniform_kmeans_comm(num_of_sample, num_of_party, num_of_dim)\n",
    "d_comm = distkmeans_comm(num_of_data, num_of_party, num_of_dim, num_of_center)\n",
    "e_comm = coreset_distkmeans_comm(num_of_sample, num_of_party, num_of_dim, num_of_center)\n",
    "f_comm = uniform_distkmeans_comm(num_of_sample, num_of_party, num_of_dim, num_of_center)\n",
    "\n",
    "cost_seq = [a,b,c,d,e,f]\n",
    "comm_seq = [a_comm,b_comm,c_comm,d_comm,e_comm,f_comm]\n",
    "labels = ['K','Coreset+K','Uniform+K','D','Coreset+D','Uniform+D']\n",
    "\n",
    "fig, ax1 = plt.subplots()\n",
    "ax1.set_title('Clustering Cost and Communication Cost for Different Methods')\n",
    "ax1.set_xlabel('Different Methods')\n",
    "ax1.set_ylabel('Cost',color='blue')\n",
    "ax1.tick_params(axis='y', labelcolor='blue')\n",
    "bp = box_plot(cost_seq, ax1, labels, 'blue', 'cyan')\n",
    "\n",
    "ax2 = ax1.twinx()\n",
    "ax2.set_ylabel('Communication Cost', color='red')\n",
    "ax2.set_yscale('log')\n",
    "ax2.tick_params(axis='y', labelcolor='red')\n",
    "ax2.plot([1,2,3,4,5,6], comm_seq, 'ro--')\n",
    "plt.show()"
   ]
  },
  {
   "cell_type": "code",
   "execution_count": null,
   "id": "ca0fde19",
   "metadata": {},
   "outputs": [],
   "source": []
  }
 ],
 "metadata": {
  "kernelspec": {
   "display_name": "Python 3 (ipykernel)",
   "language": "python",
   "name": "python3"
  },
  "language_info": {
   "codemirror_mode": {
    "name": "ipython",
    "version": 3
   },
   "file_extension": ".py",
   "mimetype": "text/x-python",
   "name": "python",
   "nbconvert_exporter": "python",
   "pygments_lexer": "ipython3",
   "version": "3.8.12"
  }
 },
 "nbformat": 4,
 "nbformat_minor": 5
}
